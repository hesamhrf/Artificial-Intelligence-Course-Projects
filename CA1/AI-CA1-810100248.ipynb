{
 "cells": [
  {
   "cell_type": "markdown",
   "id": "841364b8-c0cc-48f9-8384-01f9ebe58d3e",
   "metadata": {
    "tags": []
   },
   "source": [
    "<font size=6 color =\"#03f4fc\" >Genetic Algorithm</font>\n",
    "- <font size=4>Name : Hesam Ramezanian</font>\n",
    "- <font size=4>UID  : 810100248</font>"
   ]
  },
  {
   "cell_type": "markdown",
   "id": "591d5444-f43d-4f25-a42b-0dbb3c6e39c5",
   "metadata": {},
   "source": [
    "<font size =\"5\" color =\"#03c2fc\">Part 1: Basic Concepts</font>\n",
    "- each coefficient is considered a gene.\n",
    "- A chromosome consists of n+1 genes where n is degree of the given equation."
   ]
  },
  {
   "cell_type": "code",
   "execution_count": 104,
   "id": "83dd7a78",
   "metadata": {
    "tags": []
   },
   "outputs": [],
   "source": [
    "import random\n",
    "from timeit import default_timer as timer\n",
    "import copy"
   ]
  },
  {
   "cell_type": "code",
   "execution_count": 140,
   "id": "50018d66",
   "metadata": {
    "tags": []
   },
   "outputs": [],
   "source": [
    "POPULATION_SIZE = 500\n",
    "CROSSOVER_PROBABILITY = 0.7\n",
    "MUTATION_PROBABILITY = 0.1\n",
    "CARRY_PERCENTAGE = 0.2\n",
    "MAX_NUMBER_OF_GENERATION = 2000"
   ]
  },
  {
   "cell_type": "markdown",
   "id": "19229d8b-f9f2-42b2-921d-1bad764a3570",
   "metadata": {},
   "source": [
    "<font size =\"5\" color =\"#03c2fc\">Part 2: Initialize first population</font>\n",
    "- i used random integers to make chromosomes of first population with size : `POPULATION_SIZE` "
   ]
  },
  {
   "cell_type": "code",
   "execution_count": 106,
   "id": "92c17f49",
   "metadata": {
    "tags": []
   },
   "outputs": [],
   "source": [
    "def MakeFirstPopulation(min_coefficient:int, max_coefficient:int,degree:int)->list:\n",
    "    numOfCoefficients = degree + 1\n",
    "    firstPopulation = []\n",
    "    for _ in range(POPULATION_SIZE):\n",
    "        chromosome = [random.randint(min_coefficient,max_coefficient) for _ in range(numOfCoefficients)]\n",
    "        firstPopulation.append(chromosome)\n",
    "    return firstPopulation"
   ]
  },
  {
   "cell_type": "markdown",
   "id": "3d669fe7-68fb-4d47-ae8d-71a19f63c9ce",
   "metadata": {},
   "source": [
    "<font size =\"5\" color =\"#03c2fc\">Part 3: Fitness Function</font>\n",
    "- i stored the sum of the differences between the solution of the equation derived from a chromosome and the input points in the `sumOfDifference` variable. Then, if its value was 0 , i returnd 2 (maximum fitness value) as the fitness value ,otherwise i returnde 1/`sumOfDifference`"
   ]
  },
  {
   "cell_type": "code",
   "execution_count": 107,
   "id": "c2f1489f",
   "metadata": {
    "tags": []
   },
   "outputs": [],
   "source": [
    "def CalaulateEquation(x:int,coefficients_list:list)->int:\n",
    "    y = 0\n",
    "    for degree in range(len(coefficients_list)):\n",
    "        y += (x**degree)*coefficients_list[degree]\n",
    "    return y\n",
    "\n",
    "\n",
    "\n",
    "def FitnessFunction(chromosome:list,point_list : list)-> float:\n",
    "    sumOfDifference = 0\n",
    "    y = 0\n",
    "    x = 0\n",
    "    for point in point_list:\n",
    "        x = point[0]\n",
    "        y = point[1]\n",
    "        sumOfDifference += abs(y-CalaulateEquation(x,chromosome))\n",
    "    if sumOfDifference == 0 :\n",
    "        return 2\n",
    "    else:\n",
    "        return 1/sumOfDifference\n",
    "            "
   ]
  },
  {
   "cell_type": "markdown",
   "id": "167f1a27-dda0-4d90-830c-eb7c54f243bd",
   "metadata": {
    "tags": []
   },
   "source": [
    "<font size =\"5\" color =\"#03c2fc\">Part 4: Implementing Crossover and Mutation and Generating Next Population</font>\n",
    "\n",
    "<font size =\"4\" > Crossover : </font>\n",
    "- i tried two types of crossover function. At first for each  chromosome in the population , I created a random number between 0 and 1. if it was less than `CROSSOVER_PROBABILITY`,I performed the crossover operation as one point or uniform"
   ]
  },
  {
   "cell_type": "code",
   "execution_count": 108,
   "id": "0ee1fa6f",
   "metadata": {
    "tags": []
   },
   "outputs": [],
   "source": [
    "def CrossoverOnePoint(chromosome1:list,chromosome2:list):\n",
    "    crossoverPoint = random.randint(1,len(chromosome1))\n",
    "    chromosome1[:crossoverPoint],chromosome2[:crossoverPoint] = chromosome2[:crossoverPoint],chromosome1[:crossoverPoint]\n",
    "\n",
    "def CrossoverUniform(chromosome1:list,chromosome2:list):\n",
    "    for i in range(len(chromosome1)):\n",
    "        if random.random() < 0.5 :\n",
    "            chromosome1[i],chromosome2[i] = chromosome2[i],chromosome1[i]\n",
    "    \n",
    "def CrossoverOnList(population:list):\n",
    "    populationLen = len(population)\n",
    "    for i in range(0,populationLen,2):\n",
    "        #for odd population size\n",
    "        if i + 1 == populationLen:\n",
    "            break\n",
    "        if(random.random() < CROSSOVER_PROBABILITY):\n",
    "            ch1 = copy.deepcopy(population[i])\n",
    "            ch2 = copy.deepcopy(population[i+1])\n",
    "            #CrossoverOnePoint(ch1,ch2)\n",
    "            CrossoverUniform(ch1, ch2)\n",
    "            population[i] = ch1\n",
    "            population[i+1] = ch2\n",
    "    \n"
   ]
  },
  {
   "cell_type": "markdown",
   "id": "7074db52-b037-4c5c-91ae-5d5942f3589d",
   "metadata": {},
   "source": [
    "<font size =\"4\" > Mutation : </font>\n",
    "- For each chromosome in the population, if a random number between 0 and 1 was less than `MUTATION_PROBABILITY` i performed mutation,in the mutation, i randomly selected a gene from the chromosome and replaced it with a random number.\n",
    "- `CARRY_PERCENTAGE` of best chromosome in the population without mutation carry to next generation"
   ]
  },
  {
   "cell_type": "code",
   "execution_count": 109,
   "id": "29c0f619",
   "metadata": {},
   "outputs": [],
   "source": [
    "def Mutate(chromosome:list,min_coefficient:int,max_coefficient:int):\n",
    "    geneIndex = random.randint(0,len(chromosome)-1)\n",
    "    chromosome[geneIndex] = random.randint(min_coefficient,max_coefficient)\n",
    "    \n",
    "def MutateOnList(population:list,min_coefficient:int,max_coefficient:int):\n",
    "    populationLen = len(population)\n",
    "    for i in range(int(populationLen*CARRY_PERCENTAGE),populationLen):\n",
    "        if(random.random() < MUTATION_PROBABILITY):\n",
    "            ch = copy.deepcopy(population[i])\n",
    "            Mutate(population[i],min_coefficient,max_coefficient)\n",
    "            population[i] = ch"
   ]
  },
  {
   "cell_type": "markdown",
   "id": "61fb2047-72ab-4873-8e45-002167b30481",
   "metadata": {
    "tags": []
   },
   "source": [
    "<font size =\"4\" > Generating Next Population : </font>\n",
    "- I experimented two methods rank selection and wheel selection for creating the mating pool. Each method has its own pros and cons. Rank selection usually makes the algorithm converge slower to the solution than wheel selection. However, for equations with high degrees and wide ranges of coefficients, rank selection tends to have a higher chance of finding the optimal solution than wheel selection."
   ]
  },
  {
   "cell_type": "code",
   "execution_count": 110,
   "id": "204311b3",
   "metadata": {},
   "outputs": [],
   "source": [
    "def CreateMatingPoolWheel(population:list,points_list:list)->list:\n",
    "    listLen = len(population)\n",
    "    fitnesList = [FitnessFunction(population[i],points_list) for i in range(0,listLen)]\n",
    "    sumOfFitness = sum(fitnesList)\n",
    "    probList = [(fitnesList[i]/sumOfFitness) for i in range(0,listLen)]\n",
    "    matingPool = random.choices(population,weights=probList,k=POPULATION_SIZE)\n",
    "    random.shuffle(matingPool)\n",
    "    return matingPool\n",
    "\n",
    "def RankList(population:list,point_list:list):\n",
    "    population.sort(key = lambda ch : FitnessFunction(ch,point_list) ,reverse = True)\n",
    "\n",
    "def CreateMatingPoolRank(population:list)->list:\n",
    "    listLen = len(population)\n",
    "    sumOfRanks = (listLen * (listLen + 1))/2\n",
    "    probList = [(listLen-i+1)/sumOfRanks for i in range(1,listLen+1)]\n",
    "    matingPool = random.choices(population,weights=probList,k=POPULATION_SIZE)\n",
    "    random.shuffle(matingPool)\n",
    "    return matingPool"
   ]
  },
  {
   "cell_type": "markdown",
   "id": "8e6305cd-ba78-4d16-b0d1-92910fd682d6",
   "metadata": {},
   "source": [
    "<font size =\"5\" color =\"#03c2fc\">Part 5: Running the Genetic Algorithm</font>\n",
    "- I implemented two functions to execute the algorithm that differ only in the way they select the next generation.\n",
    "\n",
    "    FindSolution1 = wheel selection\n",
    "\n",
    "    FindSolution2 = rank selection\n",
    "- in each generation i ranked the population list and saved best answer in `newBestAnswer` and if it was better than the last best answer i change `bestAnswer`\n",
    "- for each 50 generation i print fitness of best answer i found to see progress\n",
    "- if i found the optimal solution i stop the algorithm\n",
    "- The mating pool is created, and crossover and mutation is applied"
   ]
  },
  {
   "cell_type": "code",
   "execution_count": 111,
   "id": "37eb5e01",
   "metadata": {
    "scrolled": true,
    "tags": []
   },
   "outputs": [],
   "source": [
    "def FindSolution1(min_coefficient:int,max_coefficient:int,points_list:list,degree:int)->(list,float):\n",
    "    population = MakeFirstPopulation(min_coefficient,max_coefficient,degree)\n",
    "    bestAnswer = []\n",
    "    bestAnswerFitness = 0\n",
    "    for i in range(MAX_NUMBER_OF_GENERATION):\n",
    "        RankList(population,points_list)\n",
    "        newBestAnswer = population[0]\n",
    "        newBestAnswerFitness = FitnessFunction(newBestAnswer,points_list)\n",
    "        if bestAnswerFitness < newBestAnswerFitness:   \n",
    "            bestAnswerFitness = newBestAnswerFitness\n",
    "            bestAnswer = newBestAnswer\n",
    "        if(not i%50):\n",
    "            print(i,\" : \",bestAnswerFitness)\n",
    "        if(bestAnswerFitness == 2):\n",
    "            break\n",
    "        population = CreateMatingPoolWheel(population,points_list)\n",
    "        CrossoverOnList(population)\n",
    "        MutateOnList(population,min_coefficient,max_coefficient)\n",
    "    return bestAnswer,bestAnswerFitness\n",
    "\n",
    "\n",
    "def FindSolution2(min_coefficient:int,max_coefficient:int,points_list:list,degree:int)->(list,float):\n",
    "    population = MakeFirstPopulation(min_coefficient,max_coefficient,degree)\n",
    "    bestAnswer = []\n",
    "    bestAnswerFitness = 0\n",
    "    for i in range(MAX_NUMBER_OF_GENERATION):\n",
    "        RankList(population,points_list)\n",
    "        newBestAnswer = population[0]\n",
    "        newBestAnswerFitness = FitnessFunction(newBestAnswer,points_list)\n",
    "        if bestAnswerFitness < newBestAnswerFitness:   \n",
    "            bestAnswerFitness = newBestAnswerFitness\n",
    "            bestAnswer = newBestAnswer\n",
    "        if(not i%50):\n",
    "            print(i,\" : \",bestAnswerFitness)\n",
    "        if(bestAnswerFitness == 2):\n",
    "            break\n",
    "        population = CreateMatingPoolRank(population)\n",
    "        CrossoverOnList(population)\n",
    "        MutateOnList(population,min_coefficient,max_coefficient)\n",
    "    return bestAnswer,bestAnswerFitness\n",
    "    \n",
    "    \n"
   ]
  },
  {
   "cell_type": "code",
   "execution_count": 141,
   "id": "ade32500-bea7-4d7f-beea-95f8743749b3",
   "metadata": {
    "tags": []
   },
   "outputs": [],
   "source": [
    "#minCoefficient,maxCoefficient = -5,3\n",
    "#pointsList = [[0,1],[1,0],[2,-5],[-1,-8]]\n",
    "#degree = 3\n",
    "\n",
    "minCoefficient,maxCoefficient = -12,+12\n",
    "pointsList = []\n",
    "degree = 10\n",
    "\n",
    "#fill pointList:\n",
    "numberOfPoints = 60\n",
    "minX = -30\n",
    "maxX = 30\n",
    "ans = []\n",
    "xlist = []\n",
    "x = 0\n",
    "for _ in range(numberOfPoints):\n",
    "    while True: \n",
    "        x = random.randint(minX,maxX)\n",
    "        if x not in xlist:\n",
    "            xlist.append(x)\n",
    "            break\n",
    "    ans.append([x,10*(x**10)+2*(x**8)-5*(x**7)-8*(x**5)+4*(x**3)+11])\n",
    "pointsList = ans"
   ]
  },
  {
   "cell_type": "code",
   "execution_count": 113,
   "id": "a9fdbc7f",
   "metadata": {
    "scrolled": true,
    "tags": []
   },
   "outputs": [
    {
     "name": "stdout",
     "output_type": "stream",
     "text": [
      "0  :  1.0788281815377162e-13\n",
      "50  :  2.0596616845029594e-09\n",
      "100  :  2.0596616845029594e-09\n",
      "150  :  2.0596616845029594e-09\n",
      "200  :  1.4574922600966647e-08\n",
      "250  :  1.0522763526039157e-07\n",
      "300  :  2.5157169415925998e-06\n",
      "350  :  5.553087516659262e-05\n",
      "400  :  0.0011904761904761906\n",
      "450  :  0.016666666666666666\n",
      "best answer : [11, 0, 0, 4, 0, -8, 0, -5, 2, 0, 10] fitness : 2\n"
     ]
    }
   ],
   "source": [
    "sol1,fitness1 = FindSolution1(minCoefficient,maxCoefficient,pointsList,degree)\n",
    "print(\"best answer :\",sol1,\"fitness :\", fitness1)"
   ]
  },
  {
   "cell_type": "code",
   "execution_count": 114,
   "id": "4e2861ad",
   "metadata": {
    "scrolled": true,
    "tags": []
   },
   "outputs": [
    {
     "name": "stdout",
     "output_type": "stream",
     "text": [
      "0  :  1.0911578538320062e-13\n",
      "50  :  1.5929351166283168e-10\n",
      "100  :  4.128477254348606e-09\n",
      "150  :  1.0644793461201431e-07\n",
      "200  :  1.7529814269864828e-07\n",
      "250  :  2.343468051500054e-06\n",
      "300  :  2.554532890888237e-06\n",
      "350  :  2.554532890888237e-06\n",
      "400  :  0.0011098779134295228\n",
      "450  :  0.016666666666666666\n",
      "500  :  0.016666666666666666\n",
      "550  :  0.016666666666666666\n",
      "best answer : [11, 0, 0, 4, 0, -8, 0, -5, 2, 0, 10] fitness : 2\n"
     ]
    }
   ],
   "source": [
    "sol2,fitness2 = FindSolution2(minCoefficient,maxCoefficient,pointsList,degree)\n",
    "print(\"best answer :\",sol2,\"fitness :\", fitness2)"
   ]
  },
  {
   "cell_type": "markdown",
   "id": "49dc59f5-951d-4c1d-8ffb-4326b55662e3",
   "metadata": {},
   "source": [
    "<font size=\"4\" color=\"red\">Note that the list of coefficients from left to right represents the coefficient of each degree of the equation for example:</font>\n",
    "\n",
    "[3,5] => 5x+3"
   ]
  },
  {
   "cell_type": "markdown",
   "id": "15bece06-4f10-400c-9d99-cb49ec4d254d",
   "metadata": {},
   "source": [
    "<font size =\"5\" color =\"#03c2fc\">Questions</font>"
   ]
  },
  {
   "cell_type": "markdown",
   "id": "b7d6d0c8-b7db-4f02-ae01-5fca867b3458",
   "metadata": {},
   "source": [
    "<font size=\"5\"> How can extremely large or very small population sizes affect the performance of the algorithm?</font>\n",
    "\n",
    "- Both very small and very large population sizes can negatively impact the algorithm's performance. A small population may lack the diversity needed to find the optimal solution. A large population requires more computational resources and time without necessarily improving the end result."
   ]
  },
  {
   "cell_type": "markdown",
   "id": "68658c8b-1139-40fd-93b8-93ddaa79ce98",
   "metadata": {},
   "source": [
    "<font size=\"5\">If the population size increases each generation, what effect does it have on the algorithm's accuracy and speed?</font>\n",
    "- Increasing the population size each generation will slow down the algorithm's execution as it has to evaluate more chromosomes in each generation. It may slightly improve accuracy by maintaining diversity,Keeping population size constant is preferred for efficiency. "
   ]
  },
  {
   "cell_type": "markdown",
   "id": "282fc8dc-a0f2-44b5-a5f3-73dbdf2184c0",
   "metadata": {},
   "source": [
    "<font size=\"5\">Explain and compare the effects of crossover and mutation operations. Can you only use one of them? Why?</font>\n",
    "- Crossover combines genetic material between chromosomes to produce new better solutions. Mutation randomly alters a chromosome to introduce variation. Using crossover alone cannot generate enough diversity. Mutation helps avoid local optima by changing chromosomes, but cannot efficiently combine good solutions. Both are necessary for an effective search."
   ]
  },
  {
   "cell_type": "markdown",
   "id": "c05c9e6a-c056-4415-a981-97a4ef243e77",
   "metadata": {},
   "source": [
    "<font size=\"5\">In your opinion, what solutions exist to reach the answer faster for this specific problem?</font>\n",
    "- Carefully tuning the algorithm parameters like `POPULATION_SIZE`, `MUTATION_PROBABILITY`,... and functions like crossover,fitness and ..... can improve performance for this specific problem.\n"
   ]
  },
  {
   "cell_type": "markdown",
   "id": "2381b3b5-b061-4b96-8991-0157891cd391",
   "metadata": {},
   "source": [
    "<font size=\"5\">Even using these methods, it's possible chromosomes won't change after a few more generations. Explain why this happens and the problems it causes. What do you suggest to fix it?</font>\n",
    "- The algorithm may converge prematurely to a local rather than global optimum. This lack of diversity causes stagnation. Restarting with a new population or increasing mutation rate helps escape suboptimal convergence."
   ]
  },
  {
   "cell_type": "markdown",
   "id": "101fdd1b-802d-4030-a3a8-5afe17f611c1",
   "metadata": {},
   "source": [
    "<font size=\"5\">What solution do you propose for terminating the program if the problem has no solution?</font>\n",
    "- We can check the best answer every several generations, for example each 500 generation and stop the algorithm if the bestAnswer is the same."
   ]
  },
  {
   "cell_type": "markdown",
   "id": "5143b27b-25b4-40bc-9b7e-b5ccc0bcf799",
   "metadata": {},
   "source": [
    "<font size=\"5\">As the polynomial degree increases, how does the time to find the coefficients change?</font>\n",
    "-  Increasing polynomial degree exponentially increases the search space size, making it much harder to find optimal coefficients. The algorithm will require more generations and take longer to converge. y"
   ]
  },
  {
   "cell_type": "markdown",
   "id": "4f3f560c-b0ce-41a6-af3f-3e51250651fd",
   "metadata": {},
   "source": [
    "<font size=\"5\">In your opinion, how does increasing or decreasing the number of points affect the algorithm's execution?</font>\n",
    "-  More data points constrain the search space, making it easier to find coefficients fitting the data. With fewer points, the solution space is less defined, requiring more exploration to fit the polynomial.also With fewer points algorithm can find more than one optimal solution"
   ]
  },
  {
   "cell_type": "code",
   "execution_count": 137,
   "id": "48f692d1-23e2-41c1-8d14-ca360ffabe3d",
   "metadata": {
    "tags": []
   },
   "outputs": [],
   "source": [
    "def FindSolutionTerminate(min_coefficient:int,max_coefficient:int,points_list:list,degree:int)->(list,float):\n",
    "    population = MakeFirstPopulation(min_coefficient,max_coefficient,degree)\n",
    "    bestAnswer = []\n",
    "    bestAnswerFitness = 0\n",
    "    terminateGenerationNumber = 100\n",
    "    lastTerminateFitness = -1\n",
    "    for i in range(MAX_NUMBER_OF_GENERATION):\n",
    "        RankList(population,points_list)\n",
    "        newBestAnswer = population[0]\n",
    "        newBestAnswerFitness = FitnessFunction(newBestAnswer,points_list)\n",
    "        \n",
    "        if(not (i % terminateGenerationNumber)):\n",
    "            if(lastTerminateFitness == bestAnswerFitness):\n",
    "                break\n",
    "            lastTerminateFitness = newBestAnswerFitness\n",
    "            \n",
    "        if bestAnswerFitness < newBestAnswerFitness:   \n",
    "            bestAnswerFitness = newBestAnswerFitness\n",
    "            bestAnswer = newBestAnswer\n",
    "            \n",
    "        if(not i%50):\n",
    "            print(i,\" : \",bestAnswerFitness)\n",
    "            \n",
    "        if(bestAnswerFitness == 2):\n",
    "            break\n",
    "            \n",
    "        population = CreateMatingPoolRank(population)\n",
    "        CrossoverOnList(population)\n",
    "        MutateOnList(population,min_coefficient,max_coefficient)\n",
    "    return bestAnswer,bestAnswerFitness"
   ]
  },
  {
   "cell_type": "markdown",
   "id": "31c7d833-5fca-4330-b153-cfc6bf5b1300",
   "metadata": {
    "tags": []
   },
   "source": [
    "<font size=4>result of algorithm with terminating if algorithm stuck and multi start :</font>\n",
    "- if algorithm stuck in one answer for `terminateGenerationNumber` generation algorithm terminating\n",
    "- algorithm start for `numberOfMultiStart` times to find optimal solution"
   ]
  },
  {
   "cell_type": "code",
   "execution_count": 139,
   "id": "c8927436-3dba-4276-890e-50f38eab71d1",
   "metadata": {
    "tags": []
   },
   "outputs": [
    {
     "name": "stdout",
     "output_type": "stream",
     "text": [
      "0  :  7.928973387897707e-15\n",
      "50  :  8.4702391943638e-15\n",
      "100  :  1.1170460069989566e-13\n",
      "150  :  2.2929653769079404e-13\n",
      "200  :  1.4836719726938358e-12\n",
      "250  :  3.0225313697279943e-12\n",
      "300  :  1.3005462585725415e-11\n",
      "350  :  4.054027357736062e-09\n",
      "400  :  1.4473138535116336e-08\n",
      "450  :  5.488895963465909e-06\n",
      "500  :  1.852778240972338e-05\n",
      "550  :  5.580668564093978e-05\n",
      "600  :  0.016666666666666666\n",
      "650  :  0.016666666666666666\n",
      "new start:\n",
      "\n",
      "0  :  2.1502261240755322e-13\n",
      "50  :  6.210261602925821e-12\n",
      "100  :  1.67954026131192e-10\n",
      "150  :  5.234441473317304e-08\n",
      "200  :  5.043016934450866e-06\n",
      "250  :  0.0009233610341643582\n",
      "300  :  0.0009233610341643582\n",
      "350  :  0.016666666666666666\n",
      "best answer : [11, 0, 0, 4, 0, -8, 0, -5, 2, 0, 10] fitness : 2\n"
     ]
    }
   ],
   "source": [
    "numberOfMultiStart = 5\n",
    "solMulti = []\n",
    "FitnessMulti = 0\n",
    "for _ in range(numberOfMultiStart):\n",
    "    solMulti,FitnessMulti = FindSolutionTerminate(minCoefficient,maxCoefficient,pointsList,degree)\n",
    "    if(FitnessMulti == 2):\n",
    "        break\n",
    "    print(\"new start:\\n\")\n",
    "print(\"best answer :\",sol1,\"fitness :\", fitness1)"
   ]
  }
 ],
 "metadata": {
  "kernelspec": {
   "display_name": "Python 3 (ipykernel)",
   "language": "python",
   "name": "python3"
  },
  "language_info": {
   "codemirror_mode": {
    "name": "ipython",
    "version": 3
   },
   "file_extension": ".py",
   "mimetype": "text/x-python",
   "name": "python",
   "nbconvert_exporter": "python",
   "pygments_lexer": "ipython3",
   "version": "3.10.6"
  }
 },
 "nbformat": 4,
 "nbformat_minor": 5
}
