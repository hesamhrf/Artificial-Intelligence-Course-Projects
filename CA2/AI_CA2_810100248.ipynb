{
 "cells": [
  {
   "cell_type": "markdown",
   "metadata": {
    "id": "d0W-WuYsjWPP"
   },
   "source": [
    "# Artificial Intelligence Course - Fall 1402\n",
    "## Computer Assignment #2 - Reinforcement Learning"
   ]
  },
  {
   "cell_type": "markdown",
   "metadata": {
    "id": "ksnYjMyNPAcn"
   },
   "source": [
    "# Table of Contents\n",
    "\n",
    "- [Part 1: Value Iteration & Policy Iteration Algorithms](#1)\n",
    "    - [َQuestion 1:](#1-0)\n",
    "    - [َQuestion 2:](#1-1)\n",
    "    - [َQuestion 3:](#1-12)\n",
    "    - [َQuestion 4:](#1-2)\n",
    "    - [َQuestion 5:](#1-3)\n",
    "        - [Value Iteration](#1-3-1)\n",
    "        - [Policy Iteration](#1-3-2)\n",
    "    - [َQuestion 6:](#1-4)\n",
    "        - [Value Iteration](#1-4-1)\n",
    "        - [Policy Iteration](#1-4-2)\n",
    "- [Part 2: Q-Learning Algorithm](#2)\n",
    "    - [َQuestion 8:](#2-1)\n",
    "    - [َQuestion 9:](#2-2)\n",
    "    - [َQuestion 10:](#2-3)"
   ]
  },
  {
   "cell_type": "code",
   "execution_count": 1,
   "metadata": {
    "id": "dpTWKluXMHP5"
   },
   "outputs": [],
   "source": [
    "# import\n",
    "import numpy as np\n",
    "import gym\n",
    "import time\n",
    "import random\n",
    "import copy\n",
    "import matplotlib.pyplot as plt"
   ]
  },
  {
   "cell_type": "markdown",
   "metadata": {
    "id": "EifP8FUKLXE7"
   },
   "source": [
    "<a name='1'></a>\n",
    "## Part 1: Value Iteration & Policy Iteration Algorithms"
   ]
  },
  {
   "cell_type": "code",
   "execution_count": 2,
   "metadata": {
    "id": "8LizJeOYRMEq"
   },
   "outputs": [],
   "source": [
    "env = gym.make('FrozenLake-v1', desc=None, map_name=\"4x4\", is_slippery=False,render_mode=\"human\")"
   ]
  },
  {
   "cell_type": "code",
   "execution_count": 3,
   "metadata": {
    "colab": {
     "base_uri": "https://localhost:8080/"
    },
    "id": "YZARu6LDSqj_",
    "outputId": "2f22167b-c6ef-493d-bec3-264a93e5d8cb"
   },
   "outputs": [
    {
     "name": "stdout",
     "output_type": "stream",
     "text": [
      "you can see the environment in each step by render command :\n"
     ]
    }
   ],
   "source": [
    "# get familiar with the environment\n",
    "print(\"you can see the environment in each step by render command :\")\n",
    "env.reset()\n",
    "env.render()"
   ]
  },
  {
   "cell_type": "code",
   "execution_count": 4,
   "metadata": {
    "colab": {
     "base_uri": "https://localhost:8080/"
    },
    "id": "x5QTTUSrSM-L",
    "outputId": "206e612c-52ca-49d4-91b8-31f9faf5f1bc"
   },
   "outputs": [
    {
     "data": {
      "text/plain": [
       "16"
      ]
     },
     "execution_count": 4,
     "metadata": {},
     "output_type": "execute_result"
    }
   ],
   "source": [
    "# Total no. of states\n",
    "env.observation_space.n"
   ]
  },
  {
   "cell_type": "code",
   "execution_count": 5,
   "metadata": {
    "colab": {
     "base_uri": "https://localhost:8080/"
    },
    "id": "EeaBqUeZSNNY",
    "outputId": "46e8a041-a1e4-4e43-c22a-4e2c1a3a3ddc"
   },
   "outputs": [
    {
     "data": {
      "text/plain": [
       "4"
      ]
     },
     "execution_count": 5,
     "metadata": {},
     "output_type": "execute_result"
    }
   ],
   "source": [
    "# Total no. of actions\n",
    "env.action_space.n"
   ]
  },
  {
   "cell_type": "markdown",
   "metadata": {
    "id": "iVJmGmCUnIGR"
   },
   "source": [
    "<a name='1-0'></a>\n",
    "### Question 1:"
   ]
  },
  {
   "cell_type": "markdown",
   "metadata": {
    "id": "xRDhQMwwnK2s"
   },
   "source": [
    "<font size=\"5\" color=\"blue\">Value Iteration :</font>\n",
    "\n",
    "Value iteration is an algorithm for <span style=\"color:purple; font-weight:bold\">reinforcement learning</span>. It helps find the best policy for an agent in a MDP.\n",
    "\n",
    "<font size=\"4\" color=\"green\">Goal : </font>\n",
    "The goal of value iteration is to <span style=\"color:orange; font-style:italic\">maximize</span> the total reward received over time.\n",
    "\n",
    "<font size=\"4\" color=\"red\">How It Works : </font>\n",
    "It works by initializing the value function V(s) for all states s. V(s) tells the expected future reward if starting from state s.\n",
    "\n",
    "Then it repeats updating V(s). It calculates the Bellman equation for each state until the value function converges:\n",
    "\n",
    "\\begin{equation}\n",
    "V(s) = \\max_a \\sum_{s'} T(s,a,s') * (R(s,a,s') + \\gamma*V(s')) \\tag{1}\n",
    "\\end{equation}\n"
   ]
  },
  {
   "cell_type": "markdown",
   "metadata": {
    "id": "MO24LtBGLXZ7"
   },
   "source": [
    "<a name='1-1'></a>\n",
    "### Question 2:"
   ]
  },
  {
   "cell_type": "code",
   "execution_count": 6,
   "metadata": {
    "id": "VKP8LjK5jGoW"
   },
   "outputs": [],
   "source": [
    "class ValueIteration():\n",
    "    def __init__(self, env, discount_factor, theta=1e-8):\n",
    "        self.env = env\n",
    "        self.discount_factor = discount_factor\n",
    "        self.theta = theta\n",
    "        self.reset()\n",
    "        self.state_values = np.ones((self.env.observation_space.n)) / self.env.action_space.n\n",
    "        self.q_values = np.ones((self.env.observation_space.n, self.env.action_space.n)) / self.env.action_space.n\n",
    "        self.state_values[self.env.observation_space.n - 1] = 0\n",
    "        self.q_values[self.env.observation_space.n - 1] = np.zeros((self.env.action_space.n))\n",
    "\n",
    "    def value_estimation(self):\n",
    "        self.delta = np.inf\n",
    "\n",
    "        while(self.delta > self.theta):\n",
    "\n",
    "            self.delta = 0\n",
    "\n",
    "            for state in range(self.env.observation_space.n):\n",
    "\n",
    "                v = self.state_values[state]\n",
    "\n",
    "                for action in range(self.env.action_space.n):\n",
    "                    action_value = 0\n",
    "                    for probability, next_state, reward, done in self.env.P[state][action]:\n",
    "                        ### START CODE HERE ###\n",
    "                         action_value += probability * (reward + (self.discount_factor * self.state_values[next_state]))\n",
    "                        ### END CODE HERE ###\n",
    "                    self.q_values[state, action] = action_value\n",
    "\n",
    "                self.state_values[state] = np.max(self.q_values[state,:])\n",
    "\n",
    "                self.delta = np.max([self.delta, abs(v - self.state_values[state])])\n",
    "\n",
    "                if (self.delta < self.theta):\n",
    "                    break\n",
    "\n",
    "    def take_action(self, action):\n",
    "        next_state, reward, done, _,_ = self.env.step(action)\n",
    "        return next_state, reward, done\n",
    "\n",
    "    def get_optimal_policy(self, state):\n",
    "        return np.argmax(self.q_values[state,:])\n",
    "\n",
    "    def get_state_values(self):\n",
    "        return self.state_values\n",
    "\n",
    "    def get_q_values(self):\n",
    "        return self.q_values\n",
    "\n",
    "    def reset(self):\n",
    "        initial_state = self.env.reset()\n",
    "        return initial_state"
   ]
  },
  {
   "cell_type": "markdown",
   "metadata": {
    "id": "frjc5mR4ncm1"
   },
   "source": [
    "<a name='1-12'></a>\n",
    "### Question 3:"
   ]
  },
  {
   "cell_type": "markdown",
   "metadata": {
    "id": "AMJJpf1tnddF"
   },
   "source": [
    "<font size=\"5\" color=\"blue\">Policy Iteration:</font>\n",
    "\n",
    "Policy iteration is another algorithm for finding optimal policy in MDPs. It starts with random policy π.Then it repeats this 2 steps until the policy converge:\n",
    "\n",
    "<font size=\"4\" color=\"green\">Policy evaluation</font> : Use π to calculate value function Uπ(s).Calculate Bellman equation using π:\n",
    "\\begin{equation}\n",
    "Uπ(s) = \\sum_{s'} T(s, π(s), s') * (R(s, π(s), s') + γ*Uπ(s'))\n",
    "\\end{equation}\n",
    "\n",
    "Uπ(s) is expected reward from s if follow policy π.\n",
    "\n",
    "<font size=\"4\" color=\"red\">Policy improvement</font> : New policy for each state s calculate:\n",
    "\\begin{equation}\n",
    "π_{i+1}(s) = \\argmax_a \\sum_{s'} T(s,a,s') * (R(s,a,s') + γ*Uπ(s'))\n",
    "\\end{equation}\n",
    "\n",
    "policy iteration converge faster than value iteration"
   ]
  },
  {
   "cell_type": "markdown",
   "metadata": {
    "id": "V4DcH5yJLXqH"
   },
   "source": [
    "<a name='1-2'></a>\n",
    "### Question 4:"
   ]
  },
  {
   "cell_type": "code",
   "execution_count": 7,
   "metadata": {
    "executionInfo": {
     "elapsed": 14,
     "status": "ok",
     "timestamp": 1698433256083,
     "user": {
      "displayName": "Mohammad Saadati",
      "userId": "00242434153251678664"
     },
     "user_tz": -210
    },
    "id": "XjSb1lX147hd"
   },
   "outputs": [],
   "source": [
    "class PolicyIteration():\n",
    "    def __init__(self, env, discount_factor, theta=1e-8):\n",
    "        self.env = env\n",
    "        self.discount_factor = discount_factor\n",
    "        self.theta = theta\n",
    "        self.reset()\n",
    "        self.state_values = np.ones((self.env.observation_space.n)) / self.env.action_space.n\n",
    "        self.q_values = np.ones((self.env.observation_space.n, self.env.action_space.n)) / self.env.action_space.n\n",
    "        self.state_values[self.env.observation_space.n - 1] = 0\n",
    "        self.q_values[self.env.observation_space.n - 1] = np.zeros((self.env.action_space.n))\n",
    "        self.policy = np.random.randint(self.env.action_space.n, size=self.env.observation_space.n) # initial policy\n",
    "        self.policy_stable = False\n",
    "\n",
    "    def policy_evaluation(self):\n",
    "        self.delta = np.inf\n",
    "\n",
    "        while(self.delta >= self.theta):\n",
    "\n",
    "            self.delta = 0\n",
    "\n",
    "            for state in range(self.env.observation_space.n):\n",
    "\n",
    "                v = self.state_values[state]\n",
    "\n",
    "                new_state_value = 0\n",
    "                for probability, next_state, reward, done in self.env.P[state][self.policy[state]]:\n",
    "                    ### START CODE HERE ###\n",
    "                    new_state_value += probability * (reward + (self.discount_factor * self.state_values[next_state]))\n",
    "                    ### END CODE HERE ###\n",
    "                self.state_values[state] = new_state_value\n",
    "\n",
    "                self.delta = np.max([self.delta, abs(v - self.state_values[state])])\n",
    "\n",
    "    def policy_improvement(self):\n",
    "        self.policy_stable = True\n",
    "\n",
    "        for state in range(self.env.observation_space.n):\n",
    "            old_policy = self.policy[state]\n",
    "\n",
    "            for action in range(self.env.action_space.n):\n",
    "\n",
    "                action_value = 0\n",
    "                for probability, next_state, reward, done in self.env.P[state][action]:\n",
    "                    ### START CODE HERE ###\n",
    "                    action_value += probability * (reward + (self.discount_factor * self.state_values[next_state]))\n",
    "                    ### END CODE HERE ###\n",
    "                self.q_values[state, action] = action_value\n",
    "\n",
    "            self.policy[state] = np.argmax(self.q_values[state,:])\n",
    "\n",
    "            if old_policy != self.policy[state]:\n",
    "                self.policy_stable = False\n",
    "\n",
    "    def policy_estimation(self):\n",
    "        self.policy_stable = False\n",
    "\n",
    "        while not self.policy_stable:\n",
    "            self.policy_evaluation()\n",
    "            self.policy_improvement()\n",
    "\n",
    "    def take_action(self, action):\n",
    "        next_state, reward, done, _, _ = self.env.step(action)\n",
    "        return next_state, reward, done\n",
    "\n",
    "    def get_optimal_policy(self, state):\n",
    "        return self.policy[state]\n",
    "\n",
    "    def get_state_values(self):\n",
    "        return self.state_values\n",
    "\n",
    "    def get_q_values(self):\n",
    "        return self.q_values\n",
    "\n",
    "    def reset(self):\n",
    "        initial_state = self.env.reset()\n",
    "        return initial_state"
   ]
  },
  {
   "cell_type": "markdown",
   "metadata": {
    "id": "u4G-kVjmLYj4"
   },
   "source": [
    "<a name='1-3'></a>\n",
    "### Question 5:"
   ]
  },
  {
   "cell_type": "markdown",
   "metadata": {
    "id": "PB651-ZY4vjE"
   },
   "source": [
    "<a name='1-3-1'></a>\n",
    "#### Value Iteration:"
   ]
  },
  {
   "cell_type": "code",
   "execution_count": 8,
   "metadata": {
    "id": "RGYLOfYAuKjY"
   },
   "outputs": [
    {
     "name": "stdout",
     "output_type": "stream",
     "text": [
      "\n",
      " Optimal Policy :\n",
      "\n",
      " -----------------\n",
      " | ↓ | → | ↓ | ← | \n",
      " -----------------\n",
      " | ↓ | ← | ↓ | ← | \n",
      " -----------------\n",
      " | → | ↓ | ↓ | ← | \n",
      " -----------------\n",
      " | ← | → | → | * | \n",
      " -----------------\n",
      "\n",
      " State Values :\n",
      "\n",
      " -------------------------------------\n",
      " | 0.5905 | 0.6561 | 0.7290 | 0.6561 | \n",
      " -------------------------------------\n",
      " | 0.6561 | 0.1329 | 0.8100 | 0.1329 | \n",
      " -------------------------------------\n",
      " | 0.7290 | 0.8100 | 0.9000 | 0.1329 | \n",
      " -------------------------------------\n",
      " | 0.1329 | 0.9000 | 1.0000 | 0.0000 | \n",
      " -------------------------------------\n",
      "\n",
      " Q Values : \n",
      "\n",
      "[[0.531441   0.59049    0.59049    0.531441  ]\n",
      " [0.531441   0.13286025 0.6561     0.59049   ]\n",
      " [0.59049    0.729      0.59049    0.6561    ]\n",
      " [0.6561     0.13286025 0.59049    0.59049   ]\n",
      " [0.59049    0.6561     0.13286025 0.531441  ]\n",
      " [0.13286025 0.13286025 0.13286025 0.13286025]\n",
      " [0.11957423 0.81       0.13286025 0.6561    ]\n",
      " [0.13286025 0.13286025 0.13286025 0.13286025]\n",
      " [0.6561     0.13286025 0.729      0.59049   ]\n",
      " [0.6561     0.81       0.81       0.11957423]\n",
      " [0.729      0.9        0.13286025 0.729     ]\n",
      " [0.13286025 0.13286025 0.13286025 0.13286025]\n",
      " [0.13286025 0.13286025 0.13286025 0.13286025]\n",
      " [0.11957423 0.81       0.9        0.729     ]\n",
      " [0.81       0.9        1.         0.81      ]\n",
      " [0.         0.         0.         0.        ]]\n"
     ]
    }
   ],
   "source": [
    "\n",
    "\n",
    "def PrintOptimalPolicy(iteration_object):\n",
    "    ROW_SEPARATOR = \"-----------------\"\n",
    "    COLUMN_SEPARATOR = \" | \"\n",
    "    arrow_code_map = {\n",
    "    0: \"\\u2190\",\n",
    "    1: \"\\u2193\",\n",
    "    2: \"\\u2192\",\n",
    "    3: \"\\u2191\"\n",
    "    }\n",
    "    print('\\n',\"Optimal Policy :\")\n",
    "    for i in range(16):\n",
    "        if(not (i % 4)):\n",
    "            print('\\n',ROW_SEPARATOR)\n",
    "            print(COLUMN_SEPARATOR,end= \"\")\n",
    "        arrow = arrow_code_map[iteration_object.get_optimal_policy(i)]\n",
    "        if(i == 15):\n",
    "            arrow = '*'\n",
    "        print(arrow,end = COLUMN_SEPARATOR)\n",
    "    print('\\n',ROW_SEPARATOR)\n",
    "\n",
    "def PrintStateValues(iteration_object):\n",
    "    ROW_SEPARATOR = \"-------------------------------------\"\n",
    "    COLUMN_SEPARATOR = \" | \"\n",
    "    stateValues = iteration_object.get_state_values()\n",
    "    stateValues = [f\"{value:.4f}\" for value in stateValues]\n",
    "    print('\\n',\"State Values :\")\n",
    "    for i in range(16):\n",
    "        if(not (i % 4)):\n",
    "            print('\\n',ROW_SEPARATOR)\n",
    "            print(COLUMN_SEPARATOR,end= \"\")\n",
    "        print(stateValues[i],end = COLUMN_SEPARATOR)\n",
    "    print('\\n',ROW_SEPARATOR)\n",
    "\n",
    "def PrintQvalues(iteration_object):\n",
    "    qValues = iteration_object.get_q_values()\n",
    "    print('\\n',\"Q Values :\",'\\n')\n",
    "    print(qValues)\n",
    "\n",
    "def ShowSteps(iteration_object):\n",
    "    isGoalState = False\n",
    "    action = iteration_object.get_optimal_policy(0)\n",
    "    while(not isGoalState):\n",
    "        newStateResult = iteration_object.take_action(action)\n",
    "        newState,newStateReward,isGoalState = newStateResult[0],newStateResult[1],newStateResult[2]\n",
    "        action = iteration_object.get_optimal_policy(newState)\n",
    "        \n",
    "\n",
    "\n",
    "valueIteration = ValueIteration(env,0.9)\n",
    "valueIteration.reset()\n",
    "valueIteration.value_estimation()\n",
    "PrintOptimalPolicy(valueIteration)\n",
    "PrintStateValues(valueIteration)\n",
    "PrintQvalues(valueIteration)\n",
    "#show optimal policy graphical\n",
    "ShowSteps(valueIteration)\n",
    "\n"
   ]
  },
  {
   "cell_type": "markdown",
   "metadata": {
    "id": "ipZlzoXH40Mn"
   },
   "source": [
    "<a name='1-3-2'></a>\n",
    "#### Policy Iteration:"
   ]
  },
  {
   "cell_type": "code",
   "execution_count": 9,
   "metadata": {
    "id": "7Vxf_xKc44QT"
   },
   "outputs": [
    {
     "name": "stdout",
     "output_type": "stream",
     "text": [
      "\n",
      " Optimal Policy :\n",
      "\n",
      " -----------------\n",
      " | ↓ | → | ↓ | ← | \n",
      " -----------------\n",
      " | ↓ | ← | ↓ | ← | \n",
      " -----------------\n",
      " | → | ↓ | ↓ | ← | \n",
      " -----------------\n",
      " | ← | → | → | * | \n",
      " -----------------\n",
      "\n",
      " State Values :\n",
      "\n",
      " -------------------------------------\n",
      " | 0.5905 | 0.6561 | 0.7290 | 0.6561 | \n",
      " -------------------------------------\n",
      " | 0.6561 | 0.0000 | 0.8100 | 0.0000 | \n",
      " -------------------------------------\n",
      " | 0.7290 | 0.8100 | 0.9000 | 0.0000 | \n",
      " -------------------------------------\n",
      " | 0.0000 | 0.9000 | 1.0000 | 0.0000 | \n",
      " -------------------------------------\n",
      "\n",
      " Q Values : \n",
      "\n",
      "[[5.31441000e-01 5.90490000e-01 5.90490000e-01 5.31441000e-01]\n",
      " [5.31441000e-01 2.77205245e-08 6.56100000e-01 5.90490000e-01]\n",
      " [5.90490000e-01 7.29000000e-01 5.90490000e-01 6.56100000e-01]\n",
      " [6.56100000e-01 2.77205245e-08 5.90490000e-01 5.90490000e-01]\n",
      " [5.90490000e-01 6.56100000e-01 2.77205245e-08 5.31441000e-01]\n",
      " [2.77205245e-08 2.77205245e-08 2.77205245e-08 2.77205245e-08]\n",
      " [2.77205245e-08 8.10000000e-01 2.77205245e-08 6.56100000e-01]\n",
      " [2.77205245e-08 2.77205245e-08 2.77205245e-08 2.77205245e-08]\n",
      " [6.56100000e-01 2.77205245e-08 7.29000000e-01 5.90490000e-01]\n",
      " [6.56100000e-01 8.10000000e-01 8.10000000e-01 2.77205245e-08]\n",
      " [7.29000000e-01 9.00000000e-01 2.77205245e-08 7.29000000e-01]\n",
      " [2.77205245e-08 2.77205245e-08 2.77205245e-08 2.77205245e-08]\n",
      " [2.77205245e-08 2.77205245e-08 2.77205245e-08 2.77205245e-08]\n",
      " [2.77205245e-08 8.10000000e-01 9.00000000e-01 7.29000000e-01]\n",
      " [8.10000000e-01 9.00000000e-01 1.00000000e+00 8.10000000e-01]\n",
      " [0.00000000e+00 0.00000000e+00 0.00000000e+00 0.00000000e+00]]\n"
     ]
    }
   ],
   "source": [
    "policyIteration = PolicyIteration(env, 0.9)\n",
    "policyIteration.reset()\n",
    "policyIteration.policy_estimation()\n",
    "\n",
    "PrintOptimalPolicy(policyIteration)\n",
    "PrintStateValues(policyIteration)\n",
    "PrintQvalues(policyIteration)\n",
    "#show optimal policy graphical\n",
    "ShowSteps(policyIteration)\n"
   ]
  },
  {
   "cell_type": "markdown",
   "metadata": {},
   "source": [
    "<a name='1-4'></a>\n",
    "### Question 6:\n"
   ]
  },
  {
   "cell_type": "markdown",
   "metadata": {},
   "source": [
    "- Both methods result in similar optimal policies, and the value estimates are also same. The difference is that in the policy, the value of the obstacle states is zero.\n",
    "\n",
    "- The reason for the same values is the smallness of the problem and both methods converge to the optimal solution quickly"
   ]
  },
  {
   "cell_type": "markdown",
   "metadata": {
    "id": "7JuoMPH_PAcv"
   },
   "source": [
    "<a name='1-4-1'></a>\n",
    "#### Value Iteration:"
   ]
  },
  {
   "cell_type": "code",
   "execution_count": 15,
   "metadata": {
    "id": "vCBnAicAPAcv"
   },
   "outputs": [
    {
     "name": "stdout",
     "output_type": "stream",
     "text": [
      "Value Iteration Average Time : 0.2505515217781067\n"
     ]
    }
   ],
   "source": [
    "NUM_OF_REAPS = 100\n",
    "sumTimeValue = 0\n",
    "valueIteration = ValueIteration(env,0.9)\n",
    "for _ in range(NUM_OF_REAPS):\n",
    "    firstTime = time.time()\n",
    "    valueIteration.reset()\n",
    "    valueIteration.value_estimation()\n",
    "    sumTimeValue += time.time() - firstTime\n",
    "averageTimeValue = sumTimeValue/NUM_OF_REAPS\n",
    "print(\"Value Iteration Average Time :\",averageTimeValue)"
   ]
  },
  {
   "cell_type": "markdown",
   "metadata": {
    "id": "C1BMk-BfPAcv"
   },
   "source": [
    "<a name='1-4-2'></a>\n",
    "#### Policy Iteration:"
   ]
  },
  {
   "cell_type": "code",
   "execution_count": 16,
   "metadata": {
    "id": "LnUZpvLP446n"
   },
   "outputs": [
    {
     "name": "stdout",
     "output_type": "stream",
     "text": [
      "Policy Iteration Average Time :  0.25054394721984863\n"
     ]
    }
   ],
   "source": [
    "policyIteration = PolicyIteration(env, 0.9)\n",
    "sumTimePolicy = 0\n",
    "for _ in range(NUM_OF_REAPS):\n",
    "    firstTime = time.time()\n",
    "    policyIteration.reset()\n",
    "    policyIteration.policy_estimation()\n",
    "    sumTimePolicy += time.time() - firstTime\n",
    "averageTimePolicy = sumTimePolicy/NUM_OF_REAPS\n",
    "print(\"Policy Iteration Average Time : \",averageTimePolicy)\n"
   ]
  },
  {
   "cell_type": "code",
   "execution_count": 144,
   "metadata": {},
   "outputs": [
    {
     "data": {
      "image/png": "[encoded data removed]",
      "text/plain": [
       "<Figure size 640x480 with 1 Axes>"
      ]
     },
     "metadata": {},
     "output_type": "display_data"
    }
   ],
   "source": [
    "\n",
    "plt.bar(\"Policy\",averageTimePolicy)\n",
    "plt.bar(\"Value\",averageTimeValue)\n",
    "MARGIN = 0.00005\n",
    "plt.ylim(round(min(averageTimeValue,averageTimePolicy),6) - MARGIN ,round(max(averageTimeValue,averageTimePolicy),6) + MARGIN)\n",
    "plt.xlabel(\"Algorithm Type\")\n",
    "plt.ylabel(\"Average 100 Estimation Time\")\n",
    "plt.title(\"Policy/Value Speed Plot\")\n",
    "plt.grid(True)\n",
    "\n",
    "\n",
    "plt.show()"
   ]
  },
  {
   "cell_type": "markdown",
   "metadata": {},
   "source": [
    "- Value iteration is a bit slower than policy iteration because it takes longer to converge becuse in policy iteration we converge when policy is constant between two policy improvement "
   ]
  },
  {
   "cell_type": "markdown",
   "metadata": {
    "id": "hLtPLm-ELpG9"
   },
   "source": [
    "<a name='2'></a>\n",
    "## Part 2: Q-Learning Algorithm"
   ]
  },
  {
   "cell_type": "markdown",
   "metadata": {},
   "source": [
    "<a name='2-1'></a>\n",
    "### Question 7:"
   ]
  },
  {
   "cell_type": "markdown",
   "metadata": {},
   "source": [
    "<font size=\"5\" color=\"blue\">Q-Learning:</font>\n",
    "\n",
    "Q-learning is algorithm to learn optimal policy from experience. it is a model-free RL algorithm.\n",
    "\n",
    "It estimates Q(s,a) directly By interacting with the environment with these steps:\n",
    "\n",
    "- a) Observe current state s\n",
    "\n",
    "- b) Select and take action a\n",
    "\n",
    "- c) Observe reward R and next state s'\n",
    "\n",
    "- d)Update Q(s,a):\n",
    "\n",
    "\\begin{equation}\n",
    "Q(s,a) = Q(s,a) + α * (R + γ * \\max_{a'}Q(s', a') - Q(s,a))\n",
    "\\end{equation}\n",
    "\n",
    "By iteratively updating the Q-values using the Bellman equation, the Q function converges to the optimal Q through experience."
   ]
  },
  {
   "cell_type": "code",
   "execution_count": 149,
   "metadata": {
    "id": "3cW_rkeDMOE8"
   },
   "outputs": [],
   "source": [
    "# hyperparameters\n",
    "REPS = 20\n",
    "EPISODES = 2000\n",
    "EPSILON = 0.1\n",
    "LEARNING_RATE = 0.1\n",
    "DISCOUNT = 0.9\n",
    "STUDENT_NUM = 248"
   ]
  },
  {
   "cell_type": "code",
   "execution_count": 150,
   "metadata": {
    "id": "L1c1w7tRMOR_"
   },
   "outputs": [
    {
     "data": {
      "text/plain": [
       "(326, {'prob': 1.0, 'action_mask': array([1, 1, 1, 0, 0, 0], dtype=int8)})"
      ]
     },
     "execution_count": 150,
     "metadata": {},
     "output_type": "execute_result"
    }
   ],
   "source": [
    "# environment\n",
    "env = gym.make('Taxi-v3',render_mode=\"human\")\n",
    "Initial_State = env.reset(seed=STUDENT_NUM)\n",
    "Initial_State"
   ]
  },
  {
   "cell_type": "code",
   "execution_count": 151,
   "metadata": {
    "id": "ou0fWiX_MsZb"
   },
   "outputs": [
    {
     "data": {
      "text/plain": [
       "(3, 1, 1, 2)"
      ]
     },
     "execution_count": 151,
     "metadata": {},
     "output_type": "execute_result"
    }
   ],
   "source": [
    "taxi_row, taxi_col, pass_idx, dest_idx = env.decode(Initial_State[0])\n",
    "taxi_row, taxi_col, pass_idx, dest_idx"
   ]
  },
  {
   "cell_type": "code",
   "execution_count": 152,
   "metadata": {
    "id": "-8tJoWefMOdT"
   },
   "outputs": [
    {
     "name": "stdout",
     "output_type": "stream",
     "text": [
      "you can see the environment in each step by render command :\n"
     ]
    }
   ],
   "source": [
    "# get familiar with the environment\n",
    "print(\"you can see the environment in each step by render command :\")\n",
    "env.render()"
   ]
  },
  {
   "cell_type": "code",
   "execution_count": 153,
   "metadata": {
    "id": "mQCB-ZIfNwJM"
   },
   "outputs": [],
   "source": [
    "# Total no. of states\n",
    "TOTAL_NUM_OF_STATE = env.observation_space.n"
   ]
  },
  {
   "cell_type": "code",
   "execution_count": 154,
   "metadata": {
    "id": "lmk_EYbKNwYT"
   },
   "outputs": [
    {
     "data": {
      "text/plain": [
       "6"
      ]
     },
     "execution_count": 154,
     "metadata": {},
     "output_type": "execute_result"
    }
   ],
   "source": [
    "# Total no. of actions\n",
    "env.action_space.n"
   ]
  },
  {
   "cell_type": "markdown",
   "metadata": {
    "id": "oZJAP4nMLpiZ"
   },
   "source": [
    "<a name='2-1'></a>\n",
    "### Question 8:"
   ]
  },
  {
   "cell_type": "code",
   "execution_count": 155,
   "metadata": {
    "executionInfo": {
     "elapsed": 503,
     "status": "ok",
     "timestamp": 1698434549406,
     "user": {
      "displayName": "Mohammad Saadati",
      "userId": "00242434153251678664"
     },
     "user_tz": -210
    },
    "id": "Ue4m5fg9450B"
   },
   "outputs": [],
   "source": [
    "class QLearningAgent():\n",
    "    \n",
    "    def __init__(self, env, epsilon, learning_rate, discount_factor, seed):\n",
    "      self.env = env\n",
    "      self.epsilon = epsilon\n",
    "      self.learning_rate = learning_rate\n",
    "      self.olr = learning_rate\n",
    "      self.discount_factor = discount_factor\n",
    "      self.q_table = np.zeros((env.observation_space.n, env.action_space.n))\n",
    "      self.seed = seed\n",
    "      self.epsilonDecreaseRate = 0.09\n",
    "      self.learningRateDecrease = 0.004\n",
    "\n",
    "    def choose_action(self, state):\n",
    "      ### START CODE HERE ###\n",
    "      # With probability epsilon, choose a random action\n",
    "      action = 0\n",
    "      if(random.random() < self.epsilon):\n",
    "        action = random.randint(0,5)\n",
    "      else:\n",
    "        action = np.argmax(self.q_table[state])\n",
    "      # Otherwise, choose the action with the highest Q-value\n",
    "\n",
    "      ### END CODE HERE ###\n",
    "      return action\n",
    "\n",
    "    def update_q_table(self, state, action, nextState, reward):\n",
    "      ### START CODE HERE ###\n",
    "      # Calculate the new Q-value using the Q-learning formula\n",
    "      maxNextQ = max(self.q_table[nextState])\n",
    "      self.q_table[state][action] = self.q_table[state][action] + self.learning_rate * ((reward + (self.discount_factor * maxNextQ)) - self.q_table[state][action])\n",
    "      ### END CODE HERE ###\n",
    "\n",
    "    def decay_epsilon(self, episode):\n",
    "      ### START CODE HERE ###\n",
    "      self.epsilon = self.epsilon * (1/(1+(episode*self.epsilonDecreaseRate)))\n",
    "      ### END CODE HERE ###\n",
    "\n",
    "    def decrease_learning_rate(self, episode):\n",
    "      ### START CODE HERE ###\n",
    "      self.learning_rate = self.learning_rate - (self.learningRateDecrease*(1/(episode+1)))\n",
    "      ### END CODE HERE ###\n",
    "\n",
    "    def take_action(self, action):\n",
    "      next_state, reward, done, _,_ = self.env.step(action)\n",
    "      return next_state, reward, done\n",
    "\n",
    "    def get_optimal_policy(self, state):\n",
    "      return np.argmax(self.q_table[state])\n",
    "\n",
    "    def get_q_values(self):\n",
    "      return self.q_table\n",
    "\n",
    "    def reset(self):\n",
    "      self.learning_rate = self.olr\n",
    "      return self.env.reset(seed=self.seed)\n",
    "    "
   ]
  },
  {
   "cell_type": "markdown",
   "metadata": {
    "id": "c5HFAMk-Lpvs"
   },
   "source": [
    "<a name='2-2'></a>\n",
    "### Question 9:"
   ]
  },
  {
   "cell_type": "code",
   "execution_count": 156,
   "metadata": {
    "id": "Et2PlHqMMOoM"
   },
   "outputs": [],
   "source": [
    "\n",
    "def Train(number_of_episode,number_of_rep,epsilon,learning_rate,discount,is_Decay_learning_rate):\n",
    "    env = gym.make('Taxi-v3')\n",
    "    env.reset(seed=STUDENT_NUM)\n",
    "    sumRewards = [0 for _ in range(number_of_episode)]\n",
    "    agentHistory = []\n",
    "    for rep in range(number_of_rep):\n",
    "        rewardList = []\n",
    "        agent = QLearningAgent(env,epsilon,learning_rate,discount,STUDENT_NUM)\n",
    "        for episode in range(number_of_episode):\n",
    "            episodeReward = 0\n",
    "            Initial_state = env.reset()\n",
    "            state = Initial_state[0]\n",
    "            done = False\n",
    "            while(not done):\n",
    "                action = agent.choose_action(state)\n",
    "                nextState,reward,done = agent.take_action(action)\n",
    "                agent.update_q_table(state,action,nextState,reward)\n",
    "                state = nextState\n",
    "                episodeReward += reward\n",
    "            agent.decay_epsilon(episode)\n",
    "            if(is_Decay_learning_rate):\n",
    "                agent.decrease_learning_rate(episode)    \n",
    "            rewardList.append(episodeReward)\n",
    "        agentHistory.append([copy.deepcopy(agent),rewardList[-1]])\n",
    "        sumRewards = [reward1 + reward2 for reward1, reward2 in zip(sumRewards, rewardList)]   \n",
    "            \n",
    "    averageRewards = [sumReward/REPS for sumReward in sumRewards]\n",
    "    agentHistory.sort(key=lambda x: x[1])\n",
    "    bestAgent = agentHistory[-1][0]\n",
    "    env.close()\n",
    "    return bestAgent,averageRewards\n",
    "\n",
    "startTimeTrain = time.time()\n",
    "bestAgent,averageRewards = Train(EPISODES,REPS,EPSILON,LEARNING_RATE,DISCOUNT,is_Decay_learning_rate=False)\n",
    "optimalSolution = [bestAgent.get_optimal_policy(i) for i in range(TOTAL_NUM_OF_STATE)]\n",
    "trainTime = time.time() - startTimeTrain\n"
   ]
  },
  {
   "cell_type": "code",
   "execution_count": 157,
   "metadata": {},
   "outputs": [],
   "source": [
    "\n",
    "     \n",
    "startTimeTrainDecay = time.time()\n",
    "bestAgentDecay,averageRewardsDecay = Train(EPISODES,REPS,EPSILON,LEARNING_RATE,DISCOUNT,is_Decay_learning_rate=True)\n",
    "optimalSolutionDecay = [bestAgentDecay.get_optimal_policy(i) for i in range(TOTAL_NUM_OF_STATE)]\n",
    "trainTimeDecay = time.time() - startTimeTrainDecay\n"
   ]
  },
  {
   "cell_type": "code",
   "execution_count": 158,
   "metadata": {},
   "outputs": [
    {
     "data": {
      "image/png": "[encoded data removed]",
      "text/plain": [
       "<Figure size 1000x700 with 1 Axes>"
      ]
     },
     "metadata": {},
     "output_type": "display_data"
    }
   ],
   "source": [
    "plt.figure(figsize=(10,7))\n",
    "plt.plot(averageRewards,color = 'blue',label = \"α = 0.1\")\n",
    "plt.plot(averageRewardsDecay,color = 'red' , label = \"decreasing α\")\n",
    "plt.xlabel(\"Episode\")\n",
    "plt.ylabel(\"Average Reward\")\n",
    "plt.title(\"Q-Learning Plot\")\n",
    "plt.grid(True)\n",
    "plt.xticks(range(0, 2000, 250))\n",
    "plt.yticks(range(-1700,100,100))\n",
    "plt.legend()\n",
    "\n",
    "\n",
    "\n",
    "\n",
    "\n",
    "\n",
    "plt.show()"
   ]
  },
  {
   "cell_type": "markdown",
   "metadata": {},
   "source": [
    "- As you can see, the constant and decreasing methods for Q-learning do not have big differences in this project. This is because the starting learning rate α is set to 0.1, which is very low. With such a low learning rate, the agents struggle to find the optimal policy after α is decreased, because they can no longer learn effectively. The agents get stuck in a loop.\n",
    "\n",
    "- To solve this problem without increasing the learning rate, I should set the amount that α decreases by to a very small number. That way, the learning rate decreases slowly over time.\n",
    "\n",
    "- With the low starting α and minimal decrease amount, the results of the constant and decreasing methods end up being very similar"
   ]
  },
  {
   "cell_type": "code",
   "execution_count": 159,
   "metadata": {},
   "outputs": [
    {
     "data": {
      "image/png": "[encoded data removed]",
      "text/plain": [
       "<Figure size 640x480 with 1 Axes>"
      ]
     },
     "metadata": {},
     "output_type": "display_data"
    }
   ],
   "source": [
    "plt.bar(\"α = 0.1\",trainTime)\n",
    "plt.bar(\"decreasing α\",trainTimeDecay)\n",
    "plt.xlabel(\"Method\")\n",
    "plt.ylabel(\"Time For 20 Rep .sec\")\n",
    "plt.title(\"Train Speed\")\n",
    "plt.grid(True)\n",
    "\n",
    "\n",
    "\n",
    "\n",
    "plt.show()"
   ]
  },
  {
   "cell_type": "markdown",
   "metadata": {},
   "source": [
    "- As you can see, the constant learning rate method converges faster than the decreasing learning rate method. This is because, as I mentioned previously, the constant method maintains a higher learning rate throughout training compared to the decreasing method, where the rate decays over time\n",
    "\n",
    "- I tested using a larger learning rate value, and the convergence speed of both methods doubled"
   ]
  },
  {
   "cell_type": "code",
   "execution_count": 160,
   "metadata": {},
   "outputs": [
    {
     "name": "stdout",
     "output_type": "stream",
     "text": [
      "Last episode average reward for α = 0.1 :  6.95\n",
      "Last episode average reward for decreasing α :  6.55\n"
     ]
    }
   ],
   "source": [
    "print(\"Last episode average reward for α = 0.1 : \",averageRewards[-1])\n",
    "print(\"Last episode average reward for decreasing α : \",averageRewardsDecay[-1])\n"
   ]
  },
  {
   "cell_type": "markdown",
   "metadata": {},
   "source": [
    "- average of last episode reward in  α = 0.1 better than decreasing α"
   ]
  },
  {
   "cell_type": "markdown",
   "metadata": {},
   "source": [
    "<font color=lightblue>Epsilon Decreasing Method:</font>\n",
    "\n",
    "I used this equation to decrease epsilon over time because I want epsilon to be higher in the initial episodes and decrease towards zero in later episodes. A higher epsilon encourages more exploration early on when the policy is unreliable. As the policy improves and gets closer to optimal during training, I can decrease epsilon since the policy needs less random exploration.\n",
    "\n",
    "$$\\epsilon_{t+1} = \\epsilon_t \\cdot \\frac{1}{1 + (episode \\cdot k)}$$\n",
    "\n",
    "k : decrasing epsilon rate"
   ]
  },
  {
   "cell_type": "markdown",
   "metadata": {
    "id": "BVcMKEGDQWdU"
   },
   "source": [
    "<a name='2-3'></a>\n",
    "### Question 10:"
   ]
  },
  {
   "cell_type": "code",
   "execution_count": 145,
   "metadata": {},
   "outputs": [],
   "source": [
    "def ShowOptimalSolution(optimal_solution):\n",
    "    env = gym.make('Taxi-v3',render_mode = \"human\")\n",
    "    initialState = env.reset(seed=STUDENT_NUM)\n",
    "    newAgent = QLearningAgent(env,EPSILON,LEARNING_RATE,DISCOUNT,STUDENT_NUM)\n",
    "    state = initialState[0]\n",
    "    finish = False\n",
    "    while(not finish):\n",
    "        nextState,reward,finish = newAgent.take_action(optimal_solution[state])\n",
    "        state = nextState\n",
    "    env.close()"
   ]
  },
  {
   "cell_type": "markdown",
   "metadata": {},
   "source": [
    "optimal solution for constant learning rate :"
   ]
  },
  {
   "cell_type": "code",
   "execution_count": 163,
   "metadata": {
    "id": "FlHPV0kqQWdU"
   },
   "outputs": [],
   "source": [
    "ShowOptimalSolution(optimalSolution)\n"
   ]
  },
  {
   "cell_type": "markdown",
   "metadata": {},
   "source": [
    "optimal solution for decreasing learning rate :"
   ]
  },
  {
   "cell_type": "code",
   "execution_count": 164,
   "metadata": {},
   "outputs": [],
   "source": [
    "ShowOptimalSolution(optimalSolutionDecay)"
   ]
  }
 ],
 "metadata": {
  "colab": {
   "provenance": [],
   "toc_visible": true
  },
  "interpreter": {
   "hash": "2f0e44258af0dbc710d7f0970434d033f2bd02f2b088aab51321bfb2b1aad894"
  },
  "kernelspec": {
   "display_name": "Python 3 (ipykernel)",
   "language": "python",
   "name": "python3"
  },
  "language_info": {
   "codemirror_mode": {
    "name": "ipython",
    "version": 3
   },
   "file_extension": ".py",
   "mimetype": "text/x-python",
   "name": "python",
   "nbconvert_exporter": "python",
   "pygments_lexer": "ipython3",
   "version": "3.10.6"
  }
 },
 "nbformat": 4,
 "nbformat_minor": 4
}
